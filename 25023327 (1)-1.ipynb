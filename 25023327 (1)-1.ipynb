{
  "nbformat": 4,
  "nbformat_minor": 0,
  "metadata": {
    "colab": {
      "provenance": []
    },
    "kernelspec": {
      "name": "python3",
      "display_name": "Python 3"
    },
    "language_info": {
      "name": "python"
    }
  },
  "cells": [
    {
      "cell_type": "code",
      "execution_count": 14,
      "metadata": {
        "id": "sHwoStCP0Wmf"
      },
      "outputs": [],
      "source": [
        "def get_scores():\n",
        "  math_score = float(input(\"Nhập điểm môn Toán:\"))\n",
        "  physic_score = float(input(\"Nhập điểm môn lý:\"))\n",
        "  chemistry_score = float(input(\"Nhập điểm môn hóa:\"))\n",
        "  english_score = float(input(\"Nhập điểm môn anh:\"))\n",
        "  return math_score, physic_score, chemistry_score, english_score\n",
        "def calculate_average_score(scores):\n",
        "  return sum(scores) / len(scores)\n",
        "def get_academic_classification(average_score):\n",
        "  if average_score >= 8.5:\n",
        "    return \"Giỏi\"\n",
        "  elif average_score >= 7.0:\n",
        "    return \"Khá\"\n",
        "  elif average_score >= 5.5:\n",
        "    return \"Trung bình\"\n",
        "  else:\n",
        "    return \"Yếu\"\n",
        "  def check_for_falling_grades(scores):\n",
        "    if score < 4.0 :\n",
        "      return \"có môn dưới 4.0: học lực kém\"\n",
        "      return \"không có môn nào dưới 4.0\"\n"
      ]
    },
    {
      "cell_type": "code",
      "source": [
        "height = float(input(\"nhập chiều cao của bạn(cm):\"))\n",
        "weight = float(input(\"nhập cân nặng của bạn (kg):\"))\n",
        "if height <=0 or weight <=0:\n",
        "  print(\"chiều cao cân nặng phải là số dương\")\n",
        "Bmi = weight / (height ** 2)\n",
        "if Bmi < 18.5:\n",
        "  print (Bmi)\n",
        "  print (\"Thiếu cân\")\n",
        "elif 18.5 <= bmi < 25:\n",
        "  print(Bmi)\n",
        "  print (\"bình thường\")\n",
        "elif 25 <= bmi < 30:\n",
        "  print(Bmi)\n",
        "  print (\"thừa cân\")\n",
        "else:\n",
        "  print(Bmi)\n",
        "  print (\"béo phì\")\n",
        "  print(f\"BMI của bạn: {bmi:.2f}\")\n",
        "\n",
        "\n",
        ""
      ],
      "metadata": {
        "colab": {
          "base_uri": "https://localhost:8080/"
        },
        "id": "bVZocUKq4mDV",
        "outputId": "77c22e8b-4806-45e2-f640-402d17e44e28"
      },
      "execution_count": 30,
      "outputs": [
        {
          "output_type": "stream",
          "name": "stdout",
          "text": [
            "nhập chiều cao của bạn(cm):177\n",
            "nhập cân nặng của bạn (kg):75\n",
            "0.002393948099205209\n",
            "Thiếu cân\n"
          ]
        }
      ]
    }
  ]
}