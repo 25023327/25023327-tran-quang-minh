{
  "nbformat": 4,
  "nbformat_minor": 0,
  "metadata": {
    "colab": {
      "provenance": []
    },
    "kernelspec": {
      "name": "python3",
      "display_name": "Python 3"
    },
    "language_info": {
      "name": "python"
    }
  },
  "cells": [
    {
      "cell_type": "code",
      "execution_count": 9,
      "metadata": {
        "colab": {
          "base_uri": "https://localhost:8080/"
        },
        "id": "UbDRBC8uEBRL",
        "outputId": "4a8b76d7-068a-4ca6-b657-692d81bd47ca"
      },
      "outputs": [
        {
          "output_type": "stream",
          "name": "stdout",
          "text": [
            "Nhập số lượng mặt hàng:2\n",
            "tên hàng: sach\n",
            "Số lượng: 5\n",
            "Đơn giá: 10\n",
            "tên hàng: but\n",
            "Số lượng: 2\n",
            "Đơn giá: 13\n",
            "\n",
            "=== HOA DON HIEU SACH ===\n",
            "STT Ten hang SL Don gia Thanh tien\n",
            "1    sach          5    10.00    50.00     \n",
            "2    but           2    13.00    26.00     \n",
            "nTổng Cộng: 76.00\n",
            "Giảm Giá: 3.80\n",
            "Phải trả: 72.20\n"
          ]
        }
      ],
      "source": [
        "n = int(input(\"Nhập số lượng mặt hàng:\"))\n",
        "items = []\n",
        "\n",
        "for i in range(n):\n",
        "  ten = input(\"tên hàng: \")\n",
        "  soluong = int(input(\"Số lượng: \"))\n",
        "  gia = float(input(\"Đơn giá: \"))\n",
        "  items.append((ten, soluong, gia, soluong*gia))\n",
        "\n",
        "tong = sum(t[3] for t  in items)\n",
        "giam = 0.1*tong if tong >= 100 else (0.05*tong if tong >=50 else 0)\n",
        "tongcuoi = tong - giam\n",
        "\n",
        "print(\"\\n=== HOA DON HIEU SACH ===\")\n",
        "print(\"STT Ten hang SL Don gia Thanh tien\")\n",
        "for i, (ten,soluong,gia,tt) in enumerate(items, 1):\n",
        "  print(f\"{i:<4} {ten:<13} {soluong:<4} {gia:<8.2f} {tt:<10.2f}\")\n",
        "\n",
        "print(f\"nTổng Cộng: {tong:.2f}\")\n",
        "print(f\"Giảm Giá: {giam:.2f}\")\n",
        "print(f\"Phải trả: {tongcuoi:.2f}\")"
      ]
    }
  ]
}